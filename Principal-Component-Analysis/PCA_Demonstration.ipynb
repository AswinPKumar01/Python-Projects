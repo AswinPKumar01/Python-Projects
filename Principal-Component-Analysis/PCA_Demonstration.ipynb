{
  "nbformat": 4,
  "nbformat_minor": 0,
  "metadata": {
    "colab": {
      "provenance": []
    },
    "kernelspec": {
      "name": "python3",
      "display_name": "Python 3"
    },
    "language_info": {
      "name": "python"
    }
  },
  "cells": [
    {
      "cell_type": "markdown",
      "source": [
        "**1. Importing Necessary Libraries**"
      ],
      "metadata": {
        "id": "pSXJVwyF2Ed8"
      }
    },
    {
      "cell_type": "code",
      "execution_count": null,
      "metadata": {
        "id": "2GEy2oW70TNo"
      },
      "outputs": [],
      "source": [
        "!pip install opendatasets scikit-learn\n",
        "\n",
        "import numpy as np\n",
        "import matplotlib.pyplot as plt\n",
        "from sklearn.decomposition import PCA\n",
        "import pandas as pd\n"
      ]
    },
    {
      "cell_type": "markdown",
      "source": [
        "**2. Loading the Dataset and Preprocess Data**"
      ],
      "metadata": {
        "id": "JN0rLHsdOuO_"
      }
    },
    {
      "cell_type": "code",
      "source": [
        "data = \"/content/digit-recognizer/train.csv\"  # Specify the correct path\n",
        "\n",
        "# Load the dataset using pandas\n",
        "df = pd.read_csv(mnist_csv_file)\n",
        "\n",
        "# Extract the feature data (pixels) and labels\n",
        "X = df.iloc[:, 1:].values.astype('float32')\n",
        "y = df.iloc[:, 0].values\n"
      ],
      "metadata": {
        "id": "Wub1RbN-J6hf"
      },
      "execution_count": 13,
      "outputs": []
    },
    {
      "cell_type": "markdown",
      "source": [
        "**3. Applying PCA and Inverse Transform**"
      ],
      "metadata": {
        "id": "lC7tKAFpO-iB"
      }
    },
    {
      "cell_type": "code",
      "source": [
        "# Randomly select an image for demonstration\n",
        "random_image_index = np.random.randint(0, X.shape[0])\n",
        "\n",
        "# Define the number of principal components you want to keep\n",
        "n_components = int(input(\"Enter the number of components to keep: \"))\n",
        "\n",
        "# Apply PCA to the image data\n",
        "pca = PCA(n_components=n_components)\n",
        "X_pca = pca.fit_transform(X)\n",
        "\n",
        "# Inverse transform to get the reduced-dimension image\n",
        "X_inverse = pca.inverse_transform(X_pca)\n"
      ],
      "metadata": {
        "colab": {
          "base_uri": "https://localhost:8080/"
        },
        "id": "wIqYgZ7DKW_A",
        "outputId": "021b2cdd-ae66-491a-db85-0115ed0cd50b"
      },
      "execution_count": 14,
      "outputs": [
        {
          "name": "stdout",
          "output_type": "stream",
          "text": [
            "Enter the number of components to keep: 50\n"
          ]
        }
      ]
    },
    {
      "cell_type": "markdown",
      "source": [
        "**4. Displaying the Original and Reduced Images**"
      ],
      "metadata": {
        "id": "EKHsakvcPKoH"
      }
    },
    {
      "cell_type": "code",
      "source": [
        "# Original image\n",
        "original_image = X[random_image_index].reshape(28, 28)\n",
        "\n",
        "# Reduced-dimension image\n",
        "reduced_image = X_inverse[random_image_index].reshape(28, 28)\n",
        "\n",
        "# Plot the original and reduced images\n",
        "plt.figure(figsize=(8, 4))\n",
        "plt.subplot(1, 2, 1)\n",
        "plt.imshow(original_image, cmap='gray')\n",
        "plt.title('Original Image')\n",
        "plt.axis('off')\n",
        "\n",
        "plt.subplot(1, 2, 2)\n",
        "plt.imshow(reduced_image, cmap='gray')\n",
        "plt.title(f'Reduced to {n_components} Components')\n",
        "plt.axis('off')\n",
        "\n",
        "plt.show()\n"
      ],
      "metadata": {
        "colab": {
          "base_uri": "https://localhost:8080/",
          "height": 341
        },
        "id": "8qn6JUvwKaKC",
        "outputId": "fa7d4824-1a54-4097-95c8-4e39532189fd"
      },
      "execution_count": 15,
      "outputs": [
        {
          "output_type": "display_data",
          "data": {
            "text/plain": [
              "<Figure size 800x400 with 2 Axes>"
            ],
            "image/png": "[encoded data removed]"
          },
          "metadata": {}
        }
      ]
    }
  ]
}